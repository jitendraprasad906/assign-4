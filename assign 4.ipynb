{
 "cells": [
  {
   "cell_type": "code",
   "execution_count": 2,
   "id": "a3d52935-5aed-46bb-8002-1dfdbc7d4fa9",
   "metadata": {},
   "outputs": [
    {
     "name": "stdout",
     "output_type": "stream",
     "text": [
      "1\n",
      "2\n",
      "3\n",
      "4\n",
      "5\n"
     ]
    }
   ],
   "source": [
    "#Print number from 1 to 5 ing a while loop.\n",
    "i = 1\n",
    "while(i<=5):\n",
    "    print(i)   \n",
    "    i += 1"
   ]
  },
  {
   "cell_type": "code",
   "execution_count": 1,
   "id": "66c8e515-5e41-4499-8fe8-62df01d7faf0",
   "metadata": {},
   "outputs": [
    {
     "name": "stdout",
     "output_type": "stream",
     "text": [
      "The Sum of the First 10 Natural Numbers is: 55\n"
     ]
    }
   ],
   "source": [
    "#2 calculate wsum of 1-10 numbers using while\n",
    "def sum_of_natural_numbers(N):\n",
    "\ttotal = 0\n",
    "\tcount = 1\n",
    "\twhile count <= N:\n",
    "\t\ttotal += count\n",
    "\t\tcount += 1\n",
    "\n",
    "\treturn total\n",
    "\n",
    "N = 10\n",
    "\n",
    "result = sum_of_natural_numbers(N)\n",
    "\n",
    "print(\"The Sum of the First\", N, \"Natural Numbers is:\",\n",
    "\tresult)\n",
    "\n",
    "\n",
    "\n"
   ]
  },
  {
   "cell_type": "code",
   "execution_count": 3,
   "id": "78cbb8e1-088b-4f17-8288-5957afaec900",
   "metadata": {},
   "outputs": [
    {
     "name": "stdout",
     "output_type": "stream",
     "text": [
      "Factorial of 6 is 720\n"
     ]
    }
   ],
   "source": [
    "#calculate  a factorial num using loop\n",
    "\n",
    "def factorial(n):\n",
    "\n",
    "\treturn 1 if (n==1 or n==0) else n * factorial(n - 1) \n",
    "\n",
    "num = 6\n",
    "print (\"Factorial of\",num,\"is\",\n",
    "\tfactorial(num)) \n"
   ]
  },
  {
   "cell_type": "code",
   "execution_count": 9,
   "id": "2ae04ea8-d379-4adc-8598-888e02ec4038",
   "metadata": {},
   "outputs": [
    {
     "name": "stdout",
     "output_type": "stream",
     "text": [
      "7\n"
     ]
    }
   ],
   "source": [
    "#number of vowels in a string using loop\n",
    "\n",
    "string = \"Jitu is great human !\"\n",
    "vowels = \"aeiouAEIOU\"\n",
    "\n",
    "count = sum(string.count(vowel) for vowel in vowels)\n",
    "print(count)\n",
    "            \n"
   ]
  },
  {
   "cell_type": "code",
   "execution_count": 14,
   "id": "17cf3f08-f98b-4f42-9354-4896f11a6d06",
   "metadata": {},
   "outputs": [
    {
     "name": "stdout",
     "output_type": "stream",
     "text": [
      "* \n",
      "* * \n",
      "* * * \n",
      "* * * * \n",
      "* * * * * \n"
     ]
    }
   ],
   "source": [
    "#  code to demonstrate  pattern using nested loop\n",
    "\n",
    "def pypart(n):\n",
    "\t\n",
    "\n",
    "\tfor i in range(0, n):\n",
    "\t\n",
    "\t\tfor j in range(0, i+1):\n",
    "\t\t\n",
    "\t\t\t\n",
    "\t\t\tprint(\"* \",end=\"\")\n",
    "\t\n",
    "\t\t\n",
    "\t\tprint(\"\\r\")\n",
    "\n",
    "n = 5\n",
    "pypart(n) \n",
    "\n",
    "\n",
    "\n"
   ]
  },
  {
   "cell_type": "code",
   "execution_count": 24,
   "id": "b3f928e4-11ed-4120-9404-ba95efb8ae5d",
   "metadata": {},
   "outputs": [
    {
     "name": "stdin",
     "output_type": "stream",
     "text": [
      "Enter the number of which the user wants to print the multiplication table:  10\n"
     ]
    },
    {
     "name": "stdout",
     "output_type": "stream",
     "text": [
      "The Multiplication Table of:  10\n",
      "10 x 1 = 10\n",
      "10 x 2 = 20\n",
      "10 x 3 = 30\n",
      "10 x 4 = 40\n",
      "10 x 5 = 50\n",
      "10 x 6 = 60\n",
      "10 x 7 = 70\n",
      "10 x 8 = 80\n",
      "10 x 9 = 90\n",
      "10 x 10 = 100\n"
     ]
    }
   ],
   "source": [
    "#multiplication table using nested loop\n",
    "number = int(input (\"Enter the number of which the user wants to print the multiplication table: \"))      \n",
    "       \n",
    "print (\"The Multiplication Table of: \", number)    \n",
    "for count in range(1, 11):      \n",
    "   print (number, 'x', count, '=', number * count)   \n",
    "\n",
    "\n"
   ]
  }
 ],
 "metadata": {
  "kernelspec": {
   "display_name": "Python 3 (ipykernel)",
   "language": "python",
   "name": "python3"
  },
  "language_info": {
   "codemirror_mode": {
    "name": "ipython",
    "version": 3
   },
   "file_extension": ".py",
   "mimetype": "text/x-python",
   "name": "python",
   "nbconvert_exporter": "python",
   "pygments_lexer": "ipython3",
   "version": "3.10.8"
  }
 },
 "nbformat": 4,
 "nbformat_minor": 5
}
